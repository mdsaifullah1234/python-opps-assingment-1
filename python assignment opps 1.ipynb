{
 "cells": [
  {
   "cell_type": "markdown",
   "metadata": {},
   "source": [
    "Q1, Create a vehicle class with an init method having instance variables as name_of_vehicle, max_speed\n",
    "and average_of_vehicle."
   ]
  },
  {
   "cell_type": "code",
   "execution_count": 3,
   "metadata": {},
   "outputs": [
    {
     "name": "stdout",
     "output_type": "stream",
     "text": [
      "Car Details:\n",
      "Name of Vehicle: Car\n",
      "Max Speed: 200\n",
      "Average Speed: 60\n",
      "\n",
      "Bike Details:\n",
      "Name of Vehicle: Bike\n",
      "Max Speed: 120\n",
      "Average Speed: 40\n"
     ]
    }
   ],
   "source": [
    "class Vehicle:\n",
    "    def __init__(self, name_of_vehicle, max_speed, average_speed):\n",
    "        self.name_of_vehicle = name_of_vehicle\n",
    "        self.max_speed = max_speed\n",
    "        self.average_speed = average_speed\n",
    "\n",
    "# Create instances of the Vehicle class\n",
    "car = Vehicle(\"Car\", 200, 60)\n",
    "bike = Vehicle(\"Bike\", 120, 40)\n",
    "\n",
    "# Print the attributes of the instances\n",
    "print(\"Car Details:\")\n",
    "print(\"Name of Vehicle:\", car.name_of_vehicle)\n",
    "print(\"Max Speed:\", car.max_speed)\n",
    "print(\"Average Speed:\", car.average_speed)\n",
    "\n",
    "print(\"\\nBike Details:\")\n",
    "print(\"Name of Vehicle:\", bike.name_of_vehicle)\n",
    "print(\"Max Speed:\", bike.max_speed)\n",
    "print(\"Average Speed:\", bike.average_speed)\n"
   ]
  },
  {
   "cell_type": "markdown",
   "metadata": {},
   "source": [
    "Q2. Create a child class car from the vehicle class created in Que 1, which will inherit the vehicle class.\n",
    "Create a method named seating_capacity which takes capacity as an argument and returns the name of\n",
    "the vehicle and its seating capacity."
   ]
  },
  {
   "cell_type": "code",
   "execution_count": 4,
   "metadata": {},
   "outputs": [
    {
     "name": "stdout",
     "output_type": "stream",
     "text": [
      "Car can seat 5 people.\n"
     ]
    }
   ],
   "source": [
    "class Vehicle:\n",
    "    def __init__(self, name_of_vehicle, max_speed, average_speed):\n",
    "        self.name_of_vehicle = name_of_vehicle\n",
    "        self.max_speed = max_speed\n",
    "        self.average_speed = average_speed\n",
    "\n",
    "class Car(Vehicle):\n",
    "    def seating_capacity(self, capacity):\n",
    "        return f\"{self.name_of_vehicle} can seat {capacity} people.\"\n",
    "\n",
    "# Create an instance of the Car class\n",
    "car = Car(\"Car\", 200, 60)\n",
    "\n",
    "# Call the seating_capacity method\n",
    "capacity = 5\n",
    "capacity_message = car.seating_capacity(capacity)\n",
    "\n",
    "# Print the result\n",
    "print(capacity_message)\n"
   ]
  },
  {
   "cell_type": "markdown",
   "metadata": {},
   "source": [
    "Q3. What is multiple inheritance? Write a python code to demonstrate multiple inheritance."
   ]
  },
  {
   "cell_type": "markdown",
   "metadata": {},
   "source": [
    "ANSWER = Multiple inheritance in object-oriented programming is a way for a class to inherit characteristics from more than one parent class. In simpler terms, it means a child class can take on qualities and behaviors from multiple different classes. For example, a class can inherit properties and methods from both a \"Dog\" class and a \"Bird\" class, allowing it to exhibit traits of both animals. In Python, you can achieve multiple inheritance by specifying multiple parent classes when defining a child class. This allows the child class to inherit and use features from all of its parent classes."
   ]
  },
  {
   "cell_type": "code",
   "execution_count": 5,
   "metadata": {},
   "outputs": [
    {
     "name": "stdout",
     "output_type": "stream",
     "text": [
      "Android robot says 'Beep-Boop'.\n",
      "Starting the engine of R2D2 robot.\n"
     ]
    }
   ],
   "source": [
    "# Parent Class 1\n",
    "class Animal:\n",
    "    def __init__(self, species):\n",
    "        self.species = species\n",
    "\n",
    "    def speak(self):\n",
    "        pass\n",
    "\n",
    "# Parent Class 2\n",
    "class Vehicle:\n",
    "    def __init__(self, name):\n",
    "        self.name = name\n",
    "\n",
    "    def start_engine(self):\n",
    "        pass\n",
    "\n",
    "# Child Class inheriting from both Animal and Vehicle\n",
    "class Robot(Animal, Vehicle):\n",
    "    def __init__(self, species, name, model):\n",
    "        Animal.__init__(self, species)\n",
    "        Vehicle.__init__(self, name)\n",
    "        self.model = model\n",
    "\n",
    "    def speak(self):\n",
    "        return f\"{self.species} robot says 'Beep-Boop'.\"\n",
    "\n",
    "    def start_engine(self):\n",
    "        return f\"Starting the engine of {self.name} robot.\"\n",
    "\n",
    "# Create an instance of the Robot class\n",
    "robot = Robot(\"Android\", \"R2D2\", \"Model A\")\n",
    "\n",
    "# Call methods from both parent classes\n",
    "print(robot.speak())            # Output: Android robot says 'Beep-Boop'.\n",
    "print(robot.start_engine())     # Output: Starting the engine of R2D2 robot.\n"
   ]
  },
  {
   "cell_type": "markdown",
   "metadata": {},
   "source": [
    "Q4. What are getter and setter in python? Create a class and create a getter and a setter method in this\n",
    "class."
   ]
  },
  {
   "cell_type": "markdown",
   "metadata": {},
   "source": [
    "ANSWER = In Python, getters and setters are methods used to control access to the attributes (variables) of a class. They provide a way to get and set the values of class attributes while allowing you to implement additional logic or validation if needed. Getters are used to retrieve the value of an attribute, while setters are used to modify or set the value of an attribute. This encapsulation technique helps in maintaining data integrity and controlling access to class attributes."
   ]
  },
  {
   "cell_type": "code",
   "execution_count": 6,
   "metadata": {},
   "outputs": [
    {
     "name": "stdout",
     "output_type": "stream",
     "text": [
      "Initial name: Alice\n",
      "Initial age: 20\n",
      "Updated name: Bob\n",
      "Updated age: 25\n",
      "Age should be an integer between 0 and 120.\n"
     ]
    }
   ],
   "source": [
    "class Student:\n",
    "    def __init__(self, name, age):\n",
    "        self._name = name  # Private attribute\n",
    "        self._age = age    # Private attribute\n",
    "\n",
    "    # Getter method for name\n",
    "    def get_name(self):\n",
    "        return self._name\n",
    "\n",
    "    # Setter method for name\n",
    "    def set_name(self, new_name):\n",
    "        if isinstance(new_name, str):\n",
    "            self._name = new_name\n",
    "        else:\n",
    "            print(\"Name should be a string.\")\n",
    "\n",
    "    # Getter method for age\n",
    "    def get_age(self):\n",
    "        return self._age\n",
    "\n",
    "    # Setter method for age\n",
    "    def set_age(self, new_age):\n",
    "        if isinstance(new_age, int) and 0 <= new_age <= 120:\n",
    "            self._age = new_age\n",
    "        else:\n",
    "            print(\"Age should be an integer between 0 and 120.\")\n",
    "\n",
    "# Create an instance of the Student class\n",
    "student = Student(\"Alice\", 20)\n",
    "\n",
    "# Using the getter and setter methods\n",
    "print(\"Initial name:\", student.get_name())\n",
    "print(\"Initial age:\", student.get_age())\n",
    "\n",
    "student.set_name(\"Bob\")\n",
    "student.set_age(25)\n",
    "\n",
    "print(\"Updated name:\", student.get_name())\n",
    "print(\"Updated age:\", student.get_age())\n",
    "\n",
    "# Trying to set an invalid age\n",
    "student.set_age(150)  # This will print \"Age should be an integer between 0 and 120.\"\n"
   ]
  },
  {
   "cell_type": "markdown",
   "metadata": {},
   "source": [
    "Q5.What is method overriding in python? Write a python code to demonstrate method overriding."
   ]
  },
  {
   "cell_type": "markdown",
   "metadata": {},
   "source": [
    "ANSWER =  Method overriding is a concept in object-oriented programming where a subclass provides a specific implementation for a method that is already defined in its superclass. This allows the subclass to customize the behavior of the inherited method while keeping the method name and parameters the same as in the superclass. Method overriding is an important feature for achieving polymorphism and is commonly used in Python and other object-oriented languages."
   ]
  },
  {
   "cell_type": "code",
   "execution_count": 7,
   "metadata": {},
   "outputs": [
    {
     "name": "stdout",
     "output_type": "stream",
     "text": [
      "Area of the circle: 78.5\n",
      "Area of the rectangle: 24\n"
     ]
    }
   ],
   "source": [
    "class Shape:\n",
    "    def area(self):\n",
    "        pass  # This is an abstract method that should be overridden in subclasses.\n",
    "\n",
    "class Circle(Shape):\n",
    "    def __init__(self, radius):\n",
    "        self.radius = radius\n",
    "\n",
    "    # Overriding the area method for circles\n",
    "    def area(self):\n",
    "        return 3.14 * self.radius ** 2\n",
    "\n",
    "class Rectangle(Shape):\n",
    "    def __init__(self, length, width):\n",
    "        self.length = length\n",
    "        self.width = width\n",
    "\n",
    "    # Overriding the area method for rectangles\n",
    "    def area(self):\n",
    "        return self.length * self.width\n",
    "\n",
    "# Create instances of Circle and Rectangle\n",
    "circle = Circle(5)\n",
    "rectangle = Rectangle(4, 6)\n",
    "\n",
    "# Calculate and print the areas\n",
    "print(\"Area of the circle:\", circle.area())       # Output: 78.5\n",
    "print(\"Area of the rectangle:\", rectangle.area()) # Output: 24\n"
   ]
  }
 ],
 "metadata": {
  "kernelspec": {
   "display_name": "Python 3",
   "language": "python",
   "name": "python3"
  },
  "language_info": {
   "codemirror_mode": {
    "name": "ipython",
    "version": 3
   },
   "file_extension": ".py",
   "mimetype": "text/x-python",
   "name": "python",
   "nbconvert_exporter": "python",
   "pygments_lexer": "ipython3",
   "version": "3.8.10"
  }
 },
 "nbformat": 4,
 "nbformat_minor": 2
}
